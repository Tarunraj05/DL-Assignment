{
 "cells": [
  {
   "cell_type": "code",
   "execution_count": 1,
   "id": "73f895d6-a0a2-405e-aee6-97ab77ed2657",
   "metadata": {},
   "outputs": [
    {
     "name": "stdout",
     "output_type": "stream",
     "text": [
      "Collecting git+https://github.com/greydanus/mnist1d\n",
      "  Cloning https://github.com/greydanus/mnist1d to c:\\users\\tarun\\appdata\\local\\temp\\pip-req-build-yc2hi1z8\n",
      "  Resolved https://github.com/greydanus/mnist1d to commit 7878d96082abd200c546a07a4101fa90b30fdf7e\n",
      "  Installing build dependencies: started\n",
      "  Installing build dependencies: finished with status 'done'\n",
      "  Getting requirements to build wheel: started\n",
      "  Getting requirements to build wheel: finished with status 'done'\n",
      "  Preparing metadata (pyproject.toml): started\n",
      "  Preparing metadata (pyproject.toml): finished with status 'done'\n",
      "Requirement already satisfied: requests in c:\\users\\tarun\\anaconda3\\lib\\site-packages (from mnist1d==0.0.2.post16) (2.32.2)\n",
      "Requirement already satisfied: numpy in c:\\users\\tarun\\anaconda3\\lib\\site-packages (from mnist1d==0.0.2.post16) (1.26.4)\n",
      "Requirement already satisfied: matplotlib in c:\\users\\tarun\\anaconda3\\lib\\site-packages (from mnist1d==0.0.2.post16) (3.8.4)\n",
      "Requirement already satisfied: scipy in c:\\users\\tarun\\anaconda3\\lib\\site-packages (from mnist1d==0.0.2.post16) (1.15.2)\n",
      "Requirement already satisfied: contourpy>=1.0.1 in c:\\users\\tarun\\anaconda3\\lib\\site-packages (from matplotlib->mnist1d==0.0.2.post16) (1.2.0)\n",
      "Requirement already satisfied: cycler>=0.10 in c:\\users\\tarun\\anaconda3\\lib\\site-packages (from matplotlib->mnist1d==0.0.2.post16) (0.11.0)\n",
      "Requirement already satisfied: fonttools>=4.22.0 in c:\\users\\tarun\\anaconda3\\lib\\site-packages (from matplotlib->mnist1d==0.0.2.post16) (4.51.0)\n",
      "Requirement already satisfied: kiwisolver>=1.3.1 in c:\\users\\tarun\\anaconda3\\lib\\site-packages (from matplotlib->mnist1d==0.0.2.post16) (1.4.4)\n",
      "Requirement already satisfied: packaging>=20.0 in c:\\users\\tarun\\anaconda3\\lib\\site-packages (from matplotlib->mnist1d==0.0.2.post16) (23.2)\n",
      "Requirement already satisfied: pillow>=8 in c:\\users\\tarun\\anaconda3\\lib\\site-packages (from matplotlib->mnist1d==0.0.2.post16) (10.3.0)\n",
      "Requirement already satisfied: pyparsing>=2.3.1 in c:\\users\\tarun\\anaconda3\\lib\\site-packages (from matplotlib->mnist1d==0.0.2.post16) (3.0.9)\n",
      "Requirement already satisfied: python-dateutil>=2.7 in c:\\users\\tarun\\anaconda3\\lib\\site-packages (from matplotlib->mnist1d==0.0.2.post16) (2.9.0.post0)\n",
      "Requirement already satisfied: charset-normalizer<4,>=2 in c:\\users\\tarun\\anaconda3\\lib\\site-packages (from requests->mnist1d==0.0.2.post16) (2.0.4)\n",
      "Requirement already satisfied: idna<4,>=2.5 in c:\\users\\tarun\\anaconda3\\lib\\site-packages (from requests->mnist1d==0.0.2.post16) (3.7)\n",
      "Requirement already satisfied: urllib3<3,>=1.21.1 in c:\\users\\tarun\\anaconda3\\lib\\site-packages (from requests->mnist1d==0.0.2.post16) (2.2.2)\n",
      "Requirement already satisfied: certifi>=2017.4.17 in c:\\users\\tarun\\anaconda3\\lib\\site-packages (from requests->mnist1d==0.0.2.post16) (2024.7.4)\n",
      "Requirement already satisfied: six>=1.5 in c:\\users\\tarun\\anaconda3\\lib\\site-packages (from python-dateutil>=2.7->matplotlib->mnist1d==0.0.2.post16) (1.16.0)\n",
      "Note: you may need to restart the kernel to use updated packages.\n"
     ]
    },
    {
     "name": "stderr",
     "output_type": "stream",
     "text": [
      "  Running command git clone --filter=blob:none --quiet https://github.com/greydanus/mnist1d 'C:\\Users\\tarun\\AppData\\Local\\Temp\\pip-req-build-yc2hi1z8'\n"
     ]
    }
   ],
   "source": [
    "%pip install git+https://github.com/greydanus/mnist1d"
   ]
  },
  {
   "cell_type": "code",
   "execution_count": 2,
   "id": "a9346b19-98ed-49d4-98e0-ac6cbf88af13",
   "metadata": {},
   "outputs": [],
   "source": [
    "import torch, torch.nn as nn\n",
    "from torch.utils.data import TensorDataset, DataLoader\n",
    "from torch.optim.lr_scheduler import StepLR\n",
    "import numpy as np\n",
    "import matplotlib.pyplot as plt\n",
    "import mnist1d"
   ]
  },
  {
   "cell_type": "code",
   "execution_count": 3,
   "id": "85dd1e5e-853c-4c9d-8a15-b114f8f6780a",
   "metadata": {},
   "outputs": [
    {
     "name": "stdout",
     "output_type": "stream",
     "text": [
      "Successfully loaded data from ./mnist1d_data.pkl\n",
      "Examples in training set: 4000\n",
      "Examples in test set: 1000\n",
      "Length of each example: 40\n"
     ]
    }
   ],
   "source": [
    "args = mnist1d.data.get_dataset_args()\n",
    "data = mnist1d.data.get_dataset(args, path='./mnist1d_data.pkl', download=False, regenerate=False)\n",
    "\n",
    "# The training and test input and outputs are in\n",
    "# data['x'], data['y'], data['x_test'], and data['y_test']\n",
    "print(\"Examples in training set: {}\".format(len(data['y'])))\n",
    "print(\"Examples in test set: {}\".format(len(data['y_test'])))\n",
    "print(\"Length of each example: {}\".format(data['x'].shape[-1]))"
   ]
  },
  {
   "cell_type": "code",
   "execution_count": 4,
   "id": "f256d5ed-4e18-4cef-b2b4-98e0bcf2820e",
   "metadata": {},
   "outputs": [
    {
     "data": {
      "text/plain": [
       "Sequential(\n",
       "  (0): Linear(in_features=40, out_features=100, bias=True)\n",
       "  (1): ReLU()\n",
       "  (2): Linear(in_features=100, out_features=100, bias=True)\n",
       "  (3): ReLU()\n",
       "  (4): Linear(in_features=100, out_features=10, bias=True)\n",
       ")"
      ]
     },
     "execution_count": 4,
     "metadata": {},
     "output_type": "execute_result"
    }
   ],
   "source": [
    "D_i = 40    # Input dimensions\n",
    "D_k = 100   # Hidden dimensions\n",
    "D_o = 10    # Output dimensions\n",
    "# TODO:\n",
    "# Define a model with two hidden layers of size 100\n",
    "# And ReLU activations between them\n",
    "# Replace this line (see Figure 7.8 of book for help):\n",
    "model = torch.nn.Sequential(\n",
    "    torch.nn.Linear(D_i, D_k),\n",
    "    torch.nn.ReLU(),\n",
    "    torch.nn.Linear(D_k, D_k),\n",
    "    torch.nn.ReLU(),\n",
    "    torch.nn.Linear(D_k, D_o)\n",
    ");\n",
    "\n",
    "\n",
    "def weights_init(layer_in):\n",
    "    if isinstance(layer_in, torch.nn.Linear):\n",
    "        torch.nn.init.kaiming_normal_(layer_in.weight, nonlinearity='relu')\n",
    "        if layer_in.bias is not None:\n",
    "            torch.nn.init.zeros_(layer_in.bias)\n",
    "\n",
    "\n",
    "# Call the function you just defined\n",
    "model.apply(weights_init)\n"
   ]
  },
  {
   "cell_type": "code",
   "execution_count": 5,
   "id": "6b2b07ec-a9f4-4cfd-8af1-889e8911cba0",
   "metadata": {},
   "outputs": [
    {
     "name": "stdout",
     "output_type": "stream",
     "text": [
      "Epoch     0, train loss 1.558369, train error 60.72,  test loss 1.660458, test error 67.10\n",
      "Epoch     1, train loss 1.304192, train error 48.83,  test loss 1.458350, test error 60.20\n",
      "Epoch     2, train loss 1.107557, train error 39.85,  test loss 1.309294, test error 53.10\n",
      "Epoch     3, train loss 0.991320, train error 36.17,  test loss 1.284197, test error 51.20\n",
      "Epoch     4, train loss 0.852618, train error 30.20,  test loss 1.197010, test error 48.80\n",
      "Epoch     5, train loss 0.771716, train error 28.30,  test loss 1.175516, test error 45.30\n",
      "Epoch     6, train loss 0.643409, train error 21.38,  test loss 1.060151, test error 43.10\n",
      "Epoch     7, train loss 0.599755, train error 20.30,  test loss 1.132044, test error 43.50\n",
      "Epoch     8, train loss 0.534314, train error 18.00,  test loss 1.101117, test error 41.00\n",
      "Epoch     9, train loss 0.495776, train error 16.30,  test loss 1.103162, test error 40.30\n",
      "Epoch    10, train loss 0.380880, train error 11.43,  test loss 1.033383, test error 39.20\n",
      "Epoch    11, train loss 0.359073, train error 11.07,  test loss 1.043213, test error 38.70\n",
      "Epoch    12, train loss 0.315066, train error 7.75,  test loss 1.053548, test error 39.20\n",
      "Epoch    13, train loss 0.289317, train error 6.50,  test loss 1.069257, test error 37.40\n",
      "Epoch    14, train loss 0.264780, train error 6.18,  test loss 1.093405, test error 38.60\n",
      "Epoch    15, train loss 0.251752, train error 5.85,  test loss 1.123214, test error 37.40\n",
      "Epoch    16, train loss 0.214955, train error 4.40,  test loss 1.119691, test error 39.20\n",
      "Epoch    17, train loss 0.207154, train error 4.28,  test loss 1.133246, test error 39.40\n",
      "Epoch    18, train loss 0.186366, train error 3.20,  test loss 1.179643, test error 38.50\n",
      "Epoch    19, train loss 0.164588, train error 2.43,  test loss 1.146947, test error 39.10\n",
      "Epoch    20, train loss 0.143639, train error 1.60,  test loss 1.178369, test error 37.40\n",
      "Epoch    21, train loss 0.132164, train error 1.18,  test loss 1.169190, test error 38.10\n",
      "Epoch    22, train loss 0.128258, train error 1.22,  test loss 1.194558, test error 38.00\n",
      "Epoch    23, train loss 0.120625, train error 0.95,  test loss 1.195974, test error 37.70\n",
      "Epoch    24, train loss 0.113665, train error 0.88,  test loss 1.217221, test error 37.20\n",
      "Epoch    25, train loss 0.108648, train error 0.78,  test loss 1.217423, test error 37.30\n",
      "Epoch    26, train loss 0.102891, train error 0.57,  test loss 1.240264, test error 37.60\n",
      "Epoch    27, train loss 0.100454, train error 0.53,  test loss 1.249301, test error 37.30\n",
      "Epoch    28, train loss 0.095093, train error 0.53,  test loss 1.254914, test error 37.10\n",
      "Epoch    29, train loss 0.089452, train error 0.45,  test loss 1.259618, test error 37.30\n"
     ]
    }
   ],
   "source": [
    "# choose cross entropy loss function (equation 5.24)\n",
    "loss_function = torch.nn.CrossEntropyLoss()\n",
    "# construct SGD optimizer and initialize learning rate and momentum\n",
    "optimizer = torch.optim.SGD(model.parameters(), lr = 0.05, momentum=0.9)\n",
    "# object that decreases learning rate by half every 10 epochs\n",
    "scheduler = StepLR(optimizer, step_size=10, gamma=0.5)\n",
    "x_train = torch.tensor(data['x'].astype('float32'))\n",
    "y_train = torch.tensor(data['y'].transpose().astype('int64'))\n",
    "x_test= torch.tensor(data['x_test'].astype('float32'))\n",
    "y_test = torch.tensor(data['y_test'].astype('int64'))\n",
    "\n",
    "# load the data into a class that creates the batches\n",
    "data_loader = DataLoader(TensorDataset(x_train,y_train), batch_size=100, shuffle=True, worker_init_fn=np.random.seed(1))\n",
    "\n",
    "# Initialize model weights\n",
    "model.apply(weights_init)\n",
    "\n",
    "# loop over the dataset n_epoch times\n",
    "n_epoch = 30\n",
    "# store the loss and the % correct at each epoch\n",
    "losses_train = np.zeros((n_epoch))\n",
    "errors_train = np.zeros((n_epoch))\n",
    "losses_test = np.zeros((n_epoch))\n",
    "errors_test = np.zeros((n_epoch))\n",
    "\n",
    "for epoch in range(n_epoch):\n",
    "  # loop over batches\n",
    "  for i, batch in enumerate(data_loader):\n",
    "    # retrieve inputs and labels for this batch\n",
    "    x_batch, y_batch = batch\n",
    "    # zero the parameter gradients\n",
    "    optimizer.zero_grad()\n",
    "    # forward pass -- calculate model output\n",
    "    pred = model(x_batch)\n",
    "    # compute the loss\n",
    "    loss = loss_function(pred, y_batch)\n",
    "    # backward pass\n",
    "    loss.backward()\n",
    "    # SGD update\n",
    "    optimizer.step()\n",
    "\n",
    "  # Run whole dataset to get statistics -- normally wouldn't do this\n",
    "  pred_train = model(x_train)\n",
    "  pred_test = model(x_test)\n",
    "  _, predicted_train_class = torch.max(pred_train.data, 1)\n",
    "  _, predicted_test_class = torch.max(pred_test.data, 1)\n",
    "  errors_train[epoch] = 100 - 100 * (predicted_train_class == y_train).float().sum() / len(y_train)\n",
    "  errors_test[epoch]= 100 - 100 * (predicted_test_class == y_test).float().sum() / len(y_test)\n",
    "  losses_train[epoch] = loss_function(pred_train, y_train).item()\n",
    "  losses_test[epoch]= loss_function(pred_test, y_test).item()\n",
    "  print(f'Epoch {epoch:5d}, train loss {losses_train[epoch]:.6f}, train error {errors_train[epoch]:3.2f},  test loss {losses_test[epoch]:.6f}, test error {errors_test[epoch]:3.2f}')\n",
    "\n",
    "  # tell scheduler to consider updating learning rate\n",
    "  scheduler.step()"
   ]
  },
  {
   "cell_type": "code",
   "execution_count": null,
   "id": "2e81827d-2a35-460a-8a0c-9cef626b0447",
   "metadata": {},
   "outputs": [],
   "source": [
    "# Plot the results\n",
    "fig, ax = plt.subplots()\n",
    "ax.plot(errors_train,'r-',label='train')\n",
    "ax.plot(errors_test,'b-',label='test')\n",
    "ax.set_ylim(0,100); ax.set_xlim(0,n_epoch)\n",
    "ax.set_xlabel('Epoch'); ax.set_ylabel('Error')\n",
    "ax.set_title('TrainError %3.2f, Test Error %3.2f'%(errors_train[-1],errors_test[-1]))\n",
    "ax.legend()\n",
    "plt.show()\n",
    "\n",
    "# Plot the results\n",
    "fig, ax = plt.subplots()\n",
    "ax.plot(losses_train,'r-',label='train')\n",
    "ax.plot(losses_test,'b-',label='test')\n",
    "ax.set_xlim(0,n_epoch)\n",
    "ax.set_xlabel('Epoch'); ax.set_ylabel('Loss')\n",
    "ax.set_title('Train loss %3.2f, Test loss %3.2f'%(losses_train[-1],losses_test[-1]))\n",
    "ax.legend()\n",
    "plt.show()"
   ]
  },
  {
   "cell_type": "code",
   "execution_count": null,
   "id": "fdf4a2d3-32cb-4bbc-91ce-1fc416710de8",
   "metadata": {},
   "outputs": [],
   "source": [
    "**TODO**\n",
    "\n",
    "Play with the model -- try changing the number of layers, hidden units, learning rate, batch size, momentum or anything else you like.  See if you can improve the test results.\n",
    "\n",
    "Is it a good idea to optimize the hyperparameters in this way?  Will the final result be a good estimate of the true test performance?"
   ]
  }
 ],
 "metadata": {
  "kernelspec": {
   "display_name": "Python 3 (ipykernel)",
   "language": "python",
   "name": "python3"
  },
  "language_info": {
   "codemirror_mode": {
    "name": "ipython",
    "version": 3
   },
   "file_extension": ".py",
   "mimetype": "text/x-python",
   "name": "python",
   "nbconvert_exporter": "python",
   "pygments_lexer": "ipython3",
   "version": "3.12.4"
  }
 },
 "nbformat": 4,
 "nbformat_minor": 5
}
